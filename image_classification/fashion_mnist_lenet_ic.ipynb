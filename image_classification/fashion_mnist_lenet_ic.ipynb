{
 "cells": [
  {
   "cell_type": "code",
   "execution_count": 6,
   "metadata": {
    "colab": {
     "base_uri": "https://localhost:8080/",
     "height": 34
    },
    "executionInfo": {
     "elapsed": 2276,
     "status": "ok",
     "timestamp": 1617888020252,
     "user": {
      "displayName": "Jongbeom Kim",
      "photoUrl": "",
      "userId": "17252605958116038360"
     },
     "user_tz": -540
    },
    "id": "ql3rKpAZfWc9",
    "outputId": "baa2637e-c69a-46e6-a5e2-408860f97bda"
   },
   "outputs": [
    {
     "data": {
      "text/html": [
       "\n",
       "  <style>\n",
       "    pre {white-space: pre-wrap;}\n",
       "  </style>\n",
       "  "
      ],
      "text/plain": [
       "<IPython.core.display.HTML object>"
      ]
     },
     "metadata": {
      "tags": []
     },
     "output_type": "display_data"
    },
    {
     "name": "stdout",
     "output_type": "stream",
     "text": [
      "Mounted at /content/drive\n"
     ]
    }
   ],
   "source": [
    "from google.colab import drive\n",
    "import matplotlib.pyplot as plt\n",
    "import os\n",
    "import sys\n",
    "from IPython.display import HTML, display\n",
    "import numpy as np\n",
    "import tensorflow as tf\n",
    "from tensorflow.keras.preprocessing import image_dataset_from_directory\n",
    "from tensorflow.keras.preprocessing.sequence import pad_sequences\n",
    "from tensorflow.keras.preprocessing.image import load_img, img_to_array, ImageDataGenerator\n",
    "from tensorflow.keras.layers import Input, Dense, Flatten, Dropout, Concatenate, Add, Dot, Multiply, Reshape, Activation, BatchNormalization, SimpleRNNCell, RNN, SimpleRNN, LSTM, Embedding, Bidirectional, TimeDistributed, Conv1D, Conv2D, MaxPool1D, MaxPool2D, GlobalMaxPool1D, GlobalMaxPool2D, AveragePooling1D, AveragePooling2D, GlobalAveragePooling1D, GlobalAveragePooling2D, ZeroPadding2D\n",
    "from tensorflow.keras.layers.experimental.preprocessing import Rescaling\n",
    "from tensorflow.keras.callbacks import EarlyStopping, ModelCheckpoint\n",
    "from tensorflow.keras import Input, Model, Sequential\n",
    "\n",
    "drive.mount(\"/content/drive\", force_remount=True)\n",
    "try:\n",
    "    my_path = \"/content/notebooks\"\n",
    "    os.symlink(\"/content/drive/MyDrive/ColabNotebooks/my_env\", my_path)\n",
    "    sys.path.insert(0, my_path)\n",
    "except:\n",
    "    pass\n",
    "os.chdir(my_path)\n",
    "\n",
    "def set_css():\n",
    "  display(HTML(\"\"\"\n",
    "  <style>\n",
    "    pre {white-space: pre-wrap;}\n",
    "  </style>\n",
    "  \"\"\"))\n",
    "get_ipython().events.register(\"pre_run_cell\", set_css)\n",
    "\n",
    "plt.style.use(\"dark_background\")"
   ]
  },
  {
   "cell_type": "code",
   "execution_count": 3,
   "metadata": {
    "colab": {
     "base_uri": "https://localhost:8080/",
     "height": 16
    },
    "executionInfo": {
     "elapsed": 1416,
     "status": "ok",
     "timestamp": 1617887958850,
     "user": {
      "displayName": "Jongbeom Kim",
      "photoUrl": "",
      "userId": "17252605958116038360"
     },
     "user_tz": -540
    },
    "id": "U4hE0oJAfZl6",
    "outputId": "93c8de01-be85-4382-ff0b-a06e8dbe5ec9"
   },
   "outputs": [
    {
     "data": {
      "text/html": [
       "\n",
       "  <style>\n",
       "    pre {white-space: pre-wrap;}\n",
       "  </style>\n",
       "  "
      ],
      "text/plain": [
       "<IPython.core.display.HTML object>"
      ]
     },
     "metadata": {
      "tags": []
     },
     "output_type": "display_data"
    }
   ],
   "source": [
    "(X_tr, y_tr), (X_te, y_te) = tf.keras.datasets.fashion_mnist.load_data()\n",
    "\n",
    "X_tr = X_tr[:, :, :, None]\n",
    "X_te = X_te[:, :, :, None]\n",
    "n_clss = 10\n",
    "y_tr = tf.keras.utils.to_categorical(y_tr, n_clss)\n",
    "y_te = tf.keras.utils.to_categorical(y_te, n_clss)\n",
    "X_tr = X_tr.astype(\"float32\")\n",
    "X_te = X_te.astype(\"float32\")\n",
    "X_tr /= 255\n",
    "X_te /= 255"
   ]
  },
  {
   "cell_type": "code",
   "execution_count": 4,
   "metadata": {
    "colab": {
     "base_uri": "https://localhost:8080/",
     "height": 16
    },
    "executionInfo": {
     "elapsed": 870,
     "status": "ok",
     "timestamp": 1617887962928,
     "user": {
      "displayName": "Jongbeom Kim",
      "photoUrl": "",
      "userId": "17252605958116038360"
     },
     "user_tz": -540
    },
    "id": "mYdsbjQRkJ-q",
    "outputId": "9d7eb932-9473-47e6-de71-91075397fde0"
   },
   "outputs": [
    {
     "data": {
      "text/html": [
       "\n",
       "  <style>\n",
       "    pre {white-space: pre-wrap;}\n",
       "  </style>\n",
       "  "
      ],
      "text/plain": [
       "<IPython.core.display.HTML object>"
      ]
     },
     "metadata": {
      "tags": []
     },
     "output_type": "display_data"
    }
   ],
   "source": [
    "input_shape = X_tr[0].shape"
   ]
  },
  {
   "cell_type": "code",
   "execution_count": 16,
   "metadata": {
    "colab": {
     "base_uri": "https://localhost:8080/",
     "height": 478
    },
    "executionInfo": {
     "elapsed": 1124,
     "status": "ok",
     "timestamp": 1617888443271,
     "user": {
      "displayName": "Jongbeom Kim",
      "photoUrl": "",
      "userId": "17252605958116038360"
     },
     "user_tz": -540
    },
    "id": "6UPL_KHRi4JB",
    "outputId": "bad8a20d-047d-4db7-caf8-794121e69ae9"
   },
   "outputs": [
    {
     "data": {
      "text/html": [
       "\n",
       "  <style>\n",
       "    pre {white-space: pre-wrap;}\n",
       "  </style>\n",
       "  "
      ],
      "text/plain": [
       "<IPython.core.display.HTML object>"
      ]
     },
     "metadata": {
      "tags": []
     },
     "output_type": "display_data"
    },
    {
     "data": {
      "text/html": [
       "\n",
       "  <style>\n",
       "    pre {white-space: pre-wrap;}\n",
       "  </style>\n",
       "  "
      ],
      "text/plain": [
       "<IPython.core.display.HTML object>"
      ]
     },
     "metadata": {
      "tags": []
     },
     "output_type": "display_data"
    },
    {
     "name": "stdout",
     "output_type": "stream",
     "text": [
      "Model: \"sequential_8\"\n",
      "_________________________________________________________________\n",
      "Layer (type)                 Output Shape              Param #   \n",
      "=================================================================\n",
      "conv2d_22 (Conv2D)           (None, 28, 28, 6)         156       \n",
      "_________________________________________________________________\n",
      "average_pooling2d_14 (Averag (None, 14, 14, 6)         0         \n",
      "_________________________________________________________________\n",
      "conv2d_23 (Conv2D)           (None, 10, 10, 16)        2416      \n",
      "_________________________________________________________________\n",
      "average_pooling2d_15 (Averag (None, 5, 5, 16)          0         \n",
      "_________________________________________________________________\n",
      "conv2d_24 (Conv2D)           (None, 1, 1, 120)         48120     \n",
      "_________________________________________________________________\n",
      "flatten_7 (Flatten)          (None, 120)               0         \n",
      "_________________________________________________________________\n",
      "dense_21 (Dense)             (None, 120)               14520     \n",
      "_________________________________________________________________\n",
      "dense_22 (Dense)             (None, 84)                10164     \n",
      "_________________________________________________________________\n",
      "dense_23 (Dense)             (None, 10)                850       \n",
      "=================================================================\n",
      "Total params: 76,226\n",
      "Trainable params: 76,226\n",
      "Non-trainable params: 0\n",
      "_________________________________________________________________\n"
     ]
    }
   ],
   "source": [
    "model = Sequential()\n",
    "model.add(Conv2D(input_shape=input_shape, filters=6, kernel_size=(5, 5), strides=(1, 1), activation=\"tanh\", padding=\"same\"))\n",
    "model.add(AveragePooling2D(pool_size=(2, 2), strides=(2, 2), padding=\"valid\"))\n",
    "model.add(Conv2D(filters=16, kernel_size=(5, 5), strides=(1, 1), activation=\"tanh\", padding=\"valid\"))\n",
    "model.add(AveragePooling2D(pool_size=(2, 2), strides=(2, 2), padding=\"valid\"))\n",
    "model.add(Conv2D(filters=120, kernel_size=(5, 5), strides=(1, 1), activation=\"tanh\", padding=\"valid\"))\n",
    "model.add(Flatten())\n",
    "model.add(Dense(units=120, activation=\"tanh\"))\n",
    "model.add(Dense(units=84, activation=\"tanh\"))\n",
    "model.add(Dense(units=n_clss, activation=\"softmax\"))\n",
    "\n",
    "model.compile(optimizer='sgd', loss='mse', metrics=['accuracy'])\n",
    "\n",
    "model.summary()\n",
    "# Place the logs in a timestamped subdirectory\n",
    "# In order not to overwrite some data, it is useful to have a name with a timestamp\n",
    "# log_dir=\"logs/fit/\" + datetime.datetime.now().strftime(\"%Y%m%d-%H%M%S\")\n",
    "# Specify the callback object\n",
    "# tensorboard_callback = tf.keras.callbacks.TensorBoard(log_dir=log_dir, histogram_freq=1)\n",
    "\n",
    "# tf.keras.callback.TensorBoard ensures that logs are created and stored\n",
    "# We need to pass callback object to the fit method\n",
    "# The way to do this is by passing the list of callback objects, which is in our case just one\n",
    "\n",
    "# history = model.fit(X_tr, y=y_tr, \n",
    "#           epochs=5, \n",
    "#           batch_size = 32,\n",
    "#           validation_data=(X_te, y_te), \n",
    "        #   callbacks=[tensorboard_callback],\n",
    "        #   verbose=1)"
   ]
  },
  {
   "cell_type": "markdown",
   "metadata": {
    "id": "lpUmWNgvfsXs"
   },
   "source": [
    "1.   156 = (5 * 5 * 6) + 6 \n",
    "2.   2416 = (6 * 5 * 5 * 16) + 16 \n",
    "3.   48120 = (16 * 5 * 5 * 120) + 120\n",
    "4.   14520 = (120 * 120) + 120\n",
    "5.   10164 = (120 * 84) + 84\n",
    "6.   850 = (84 * 10) + 10\n",
    "\n",
    "1875 = 60000/32"
   ]
  },
  {
   "cell_type": "markdown",
   "metadata": {
    "id": "Y0-tEVKVd2pe"
   },
   "source": [
    "https://keras.io/api/callbacks/"
   ]
  },
  {
   "cell_type": "code",
   "execution_count": null,
   "metadata": {
    "id": "BF8-wlzOfwC4"
   },
   "outputs": [],
   "source": [
    "# Place the logs in a timestamped subdirectory\n",
    "# In order not to overwrite some data, it is useful to have a name with a timestamp\n",
    "log_dir=\"logs/fit/\" + datetime.datetime.now().strftime(\"%Y%m%d-%H%M%S\")\n",
    "# Specify the callback object\n",
    "tensorboard_callback = tf.keras.callbacks.TensorBoard(log_dir=log_dir, histogram_freq=1)\n",
    "\n",
    "# tf.keras.callback.TensorBoard ensures that logs are created and stored\n",
    "# We need to pass callback object to the fit method\n",
    "# The way to do this is by passing the list of callback objects, which is in our case just one\n",
    "\n",
    "history = model.fit(X_tr, y=y_tr, \n",
    "          epochs=5, \n",
    "          batch_size = 32,\n",
    "          validation_data=(X_te, y_te), \n",
    "          callbacks=[tensorboard_callback],\n",
    "          verbose=1)"
   ]
  },
  {
   "cell_type": "code",
   "execution_count": null,
   "metadata": {
    "colab": {
     "base_uri": "https://localhost:8080/",
     "height": 499
    },
    "executionInfo": {
     "elapsed": 1415,
     "status": "ok",
     "timestamp": 1610258433795,
     "user": {
      "displayName": "modric e",
      "photoUrl": "",
      "userId": "13359243005730783631"
     },
     "user_tz": -540
    },
    "id": "j41Em6Xx5A7r",
    "outputId": "e0ee342e-511f-4a20-a93b-fb09c755f7fd"
   },
   "outputs": [
    {
     "data": {
      "image/png": "[encoded data removed]",
      "text/plain": [
       "<Figure size 576x576 with 2 Axes>"
      ]
     },
     "metadata": {
      "needs_background": "light",
      "tags": []
     },
     "output_type": "display_data"
    }
   ],
   "source": [
    "acc = history.history['accuracy']\n",
    "loss = history.history['loss']\n",
    "epochs_range = range(5)\n",
    "\n",
    "plt.figure(figsize=(8, 8))\n",
    "plt.subplot(1, 2, 1)\n",
    "plt.plot(epochs_range, acc, label='Training Accuracy')\n",
    "plt.legend(loc='lower right')\n",
    "plt.title('Training Accuracy')\n",
    "\n",
    "plt.subplot(1, 2, 2)\n",
    "plt.plot(epochs_range, loss, label='Training Loss')\n",
    "plt.legend(loc='upper right')\n",
    "plt.title('Training Loss')\n",
    "plt.show()"
   ]
  },
  {
   "cell_type": "code",
   "execution_count": null,
   "metadata": {
    "colab": {
     "base_uri": "https://localhost:8080/"
    },
    "executionInfo": {
     "elapsed": 2042,
     "status": "ok",
     "timestamp": 1610258434461,
     "user": {
      "displayName": "modric e",
      "photoUrl": "",
      "userId": "13359243005730783631"
     },
     "user_tz": -540
    },
    "id": "wLya33DC0hU0",
    "outputId": "0b00a03d-35c3-4f77-9d33-3f430b8a5ee3"
   },
   "outputs": [
    {
     "name": "stdout",
     "output_type": "stream",
     "text": [
      "313/313 [==============================] - 1s 2ms/step - loss: 0.0492 - accuracy: 0.6594\n"
     ]
    }
   ],
   "source": [
    "test_score = model.evaluate(X_te,y_te)\n"
   ]
  },
  {
   "cell_type": "code",
   "execution_count": null,
   "metadata": {
    "colab": {
     "base_uri": "https://localhost:8080/"
    },
    "executionInfo": {
     "elapsed": 2029,
     "status": "ok",
     "timestamp": 1610258434463,
     "user": {
      "displayName": "modric e",
      "photoUrl": "",
      "userId": "13359243005730783631"
     },
     "user_tz": -540
    },
    "id": "mWx_gkSahGBy",
    "outputId": "576f53d8-9050-4a66-98c1-ff569b0e71ea"
   },
   "outputs": [
    {
     "name": "stdout",
     "output_type": "stream",
     "text": [
      "Test loss 0.0492, accuracy 65.94%\n"
     ]
    }
   ],
   "source": [
    "print('Test loss {:.4f}, accuracy {:.2f}%'.format(test_score[0], test_score[1] * 100))"
   ]
  },
  {
   "cell_type": "code",
   "execution_count": null,
   "metadata": {
    "id": "Uhsmmy7Hf0bk"
   },
   "outputs": [],
   "source": [
    "%load_ext tensorboard\n",
    "%tensorboard --logdir logs/fit"
   ]
  }
 ],
 "metadata": {
  "accelerator": "GPU",
  "colab": {
   "collapsed_sections": [],
   "name": "LeNet_fashion mnist",
   "provenance": []
  },
  "hide_input": false,
  "kernelspec": {
   "display_name": "Python 3",
   "language": "python",
   "name": "python3"
  },
  "language_info": {
   "codemirror_mode": {
    "name": "ipython",
    "version": 3
   },
   "file_extension": ".py",
   "mimetype": "text/x-python",
   "name": "python",
   "nbconvert_exporter": "python",
   "pygments_lexer": "ipython3",
   "version": "3.8.5"
  },
  "toc": {
   "base_numbering": 1,
   "nav_menu": {},
   "number_sections": true,
   "sideBar": true,
   "skip_h1_title": false,
   "title_cell": "Table of Contents",
   "title_sidebar": "Contents",
   "toc_cell": false,
   "toc_position": {},
   "toc_section_display": true,
   "toc_window_display": false
  },
  "varInspector": {
   "cols": {
    "lenName": 16,
    "lenType": 16,
    "lenVar": 40
   },
   "kernels_config": {
    "python": {
     "delete_cmd_postfix": "",
     "delete_cmd_prefix": "del ",
     "library": "var_list.py",
     "varRefreshCmd": "print(var_dic_list())"
    },
    "r": {
     "delete_cmd_postfix": ") ",
     "delete_cmd_prefix": "rm(",
     "library": "var_list.r",
     "varRefreshCmd": "cat(var_dic_list()) "
    }
   },
   "types_to_exclude": [
    "module",
    "function",
    "builtin_function_or_method",
    "instance",
    "_Feature"
   ],
   "window_display": false
  }
 },
 "nbformat": 4,
 "nbformat_minor": 1
}
